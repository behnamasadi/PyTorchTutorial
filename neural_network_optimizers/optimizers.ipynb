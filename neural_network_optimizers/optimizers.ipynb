{
 "cells": [
  {
   "cell_type": "markdown",
   "metadata": {},
   "source": [
    " # Neural Network Optimizers\n",
    " \n",
    " The cost function that we want to minimize in neural networks is diffeerence between the output of neural networks and expected output. This should be near zero. We have a set of training data and their corresponding output from a function that we don't have (an ideal image classifer for example). Just like regression that we might use linear regression or polynominal to approximate the underlying function that we try to estimate. \n",
    "\n",
    "Since computational graphs  can calculate any function, we use them to estimate the function that we dont have but we have some samples of that.  The parameters of the neural networks are $W$, $b$ but the parameters of the cost function are $X,W,b$ and outpput is $y_{nn}-y_{lable}$\n",
    "\n",
    "Iagine your network is only consist of only one weight and your input has only 1 dimension. $x$. cost function might look something like this:"
   ]
  },
  {
   "cell_type": "markdown",
   "metadata": {},
   "source": [
    "<img src='../nn/images/cost_function.svg'/>"
   ]
  },
  {
   "cell_type": "markdown",
   "metadata": {},
   "source": [
    "This surface will show you if you choose a specific item from training set, $x=-0.5$ and you choose different $w$ what would be the value of error function:"
   ]
  },
  {
   "cell_type": "markdown",
   "metadata": {},
   "source": [
    "<img src='../nn/images/error_function_fixed_x.svg'/>"
   ]
  },
  {
   "cell_type": "markdown",
   "metadata": {},
   "source": [
    "This surface will show you if you set $w=-1.0$ for your model, what would be the value of error function for all $x$:"
   ]
  },
  {
   "cell_type": "markdown",
   "metadata": {},
   "source": [
    "\n",
    "<img src='../nn/images/error_function_fixed_w.svg'/>"
   ]
  },
  {
   "cell_type": "markdown",
   "metadata": {},
   "source": [
    "In practice we have a few samples from $x$ and we are looking for right $w$ to minimize the lost. If we have more than one dimension for $w$  (i.e. 2) we have to iterate over all of them (brute force) to find a right one which in practice is impossible. Also we don't have all values for $x$ and we have only few samples from that (imagine $x$ in higher dimension which could be photos of a dog, only know for some certain values in $x$ the output could be a dog) so in practice we have something like this:"
   ]
  },
  {
   "cell_type": "markdown",
   "metadata": {},
   "source": [
    "\n",
    "<img src='../nn/images/few_x_cost_function.png'/>"
   ]
  },
  {
   "cell_type": "markdown",
   "metadata": {},
   "source": [
    "As it can be seen, for this fixed $w$, for some of inputs, the output error is small and for others it is big, we need to find a new $w$ such that for all $x$ the loss function is small.\n",
    "\n",
    "So inorder to estimate the actuall unknown function that we have some sample from that in our training set, We select different number of hidden layer and size forthem. In our simple case we use some polynomial, so we will have a function $f(w,x)=error$\n",
    "\n",
    "We compute the derivative $f(w,x)$ w.r.t $w$, $\\frac{df}{dw}$. We set some random value for $w$, and plug all $x$ from our  training set into this derivative function: $\\frac{df}{dw}$. Then we make average over all values and update the $w$ based on gradient descent function:\n",
    "\n",
    "$w_{n+1}=w_{n} +\\text{learning_rate}* \\frac{1}{m}\\Sigma_{m}  \\frac{df(x)}{dw} $"
   ]
  },
  {
   "cell_type": "code",
   "execution_count": null,
   "metadata": {},
   "outputs": [],
   "source": []
  },
  {
   "cell_type": "markdown",
   "metadata": {},
   "source": [
    "bad condition number ratio of between largest and smallest singular value of hessian\n",
    "\n",
    "high condition number\n",
    "\n",
    "\n",
    "math equations shapes of taco shell ill condition\n",
    "\n",
    "saddle point problem is more issue on high dmientional problem rader than local minima\n",
    "\n"
   ]
  },
  {
   "cell_type": "markdown",
   "metadata": {},
   "source": [
    "# Stochastic gradient descent"
   ]
  },
  {
   "cell_type": "markdown",
   "metadata": {},
   "source": [
    "# Gradient descent"
   ]
  },
  {
   "cell_type": "code",
   "execution_count": 15,
   "metadata": {},
   "outputs": [
    {
     "data": {
      "image/png": "[encoded data removed]",
      "text/latex": [
       "$\\displaystyle - 2 \\left(4 - 2 x\\right) e^{- \\left(x - 2\\right)^{2} - \\left(y - 2\\right)^{2}} - 4 \\left(8 - 2 x\\right) e^{- \\left(x - 4\\right)^{2} - \\left(y - 4\\right)^{2}}$"
      ],
      "text/plain": [
       "                        2          2                         2          2\n",
       "               - (x - 2)  - (y - 2)                 - (x - 4)  - (y - 4) \n",
       "- 2⋅(4 - 2⋅x)⋅ℯ                      - 4⋅(8 - 2⋅x)⋅ℯ                     "
      ]
     },
     "execution_count": 15,
     "metadata": {},
     "output_type": "execute_result"
    }
   ],
   "source": [
    "from sympy import *\n",
    "init_printing(use_latex=True)\n",
    "\n",
    "import matplotlib.pyplot as plt\n",
    "import numpy as np\n",
    "%matplotlib inline\n",
    "\n",
    "x,y,z=symbols('x,y,z')\n",
    "z=-( 4*exp(-(x-4)**2 - (y-4)**2)+2*exp(-(x-2)**2 - (y-2)**2) )\n",
    "z_x=diff(z,x)\n",
    "z_x\n",
    "\n"
   ]
  },
  {
   "cell_type": "code",
   "execution_count": 16,
   "metadata": {},
   "outputs": [
    {
     "data": {
      "image/png": "[encoded data removed]",
      "text/latex": [
       "$\\displaystyle - 2 \\left(4 - 2 y\\right) e^{- \\left(x - 2\\right)^{2} - \\left(y - 2\\right)^{2}} - 4 \\left(8 - 2 y\\right) e^{- \\left(x - 4\\right)^{2} - \\left(y - 4\\right)^{2}}$"
      ],
      "text/plain": [
       "                        2          2                         2          2\n",
       "               - (x - 2)  - (y - 2)                 - (x - 4)  - (y - 4) \n",
       "- 2⋅(4 - 2⋅y)⋅ℯ                      - 4⋅(8 - 2⋅y)⋅ℯ                     "
      ]
     },
     "execution_count": 16,
     "metadata": {},
     "output_type": "execute_result"
    }
   ],
   "source": [
    "z_y=diff(z,y)\n",
    "z_y"
   ]
  },
  {
   "cell_type": "markdown",
   "metadata": {},
   "source": [
    "$ z= -( 4 \\times e^{- ( (x-4)^2 +(y-4)^2 ) }+ 2 \\times e^{- ( (x-2)^2 +(y-2)^2 ) } )$"
   ]
  },
  {
   "cell_type": "markdown",
   "metadata": {},
   "source": [
    "# Hessian optimization\n",
    "Reminder: Taylor's theorem\n",
    "\n",
    "Let  $f: \\mathbb {R}^{n}  → \\mathbb {R}$\n",
    "\n",
    " \n",
    "\n",
    "$x=\\begin{bmatrix}\n",
    "x_1 \\\\ \n",
    "x_2 \\\\ \n",
    "\\vdots \n",
    "\\\\x_n\n",
    "\\end{bmatrix}$\n",
    "\n",
    "\n",
    "$\\begin{align*}\n",
    "  f(\\textbf{x})= f(x_1,x_2, \\ldots, x_n).\n",
    "\\end{align*}$\n",
    "\n",
    "\n",
    "$\\begin{align*}\n",
    "  f(\\textbf{x}) \\approx f(\\textbf{a}) + Df(\\textbf{a})_{1\\times n} (\\textbf{x}-\\textbf{a})_{n\\times1}+\n",
    "  \\frac{1}{2} (\\textbf{x}-\\textbf{a})_{1\\times n}^T Hf(\\textbf{a})_{n\\times n} (\\textbf{x}-\\textbf{a})_{n\\times1}.\n",
    "\\end{align*}$\n",
    "\n",
    "\n",
    "\n",
    "The cost function can be approximated near a point $w$ by:\n",
    "\n",
    "$\\begin{eqnarray}\n",
    "  C(w+\\Delta w) & = & C(w) + \\sum_j \\frac{\\partial C}{\\partial w_j} \\Delta w_j\n",
    "  \\nonumber  & & + \\frac{1}{2} \\sum_{jk} \\Delta w_j \\frac{\\partial^2 C}{\\partial w_j\n",
    "    \\partial w_k} \\Delta w_k + \\ldots\n",
    "\\end{eqnarray}$\n",
    "\n",
    "Which can be rewritten as:\n",
    "\n",
    "$\\begin{eqnarray}\n",
    "  C(w+\\Delta w) = C(w) + \\nabla C \\cdot \\Delta w +\n",
    "  \\frac{1}{2} \\Delta w^T H \\Delta w + \\ldots,\n",
    "\\end{eqnarray}$\n",
    "\n",
    "$H$ is Hessian matrix, whose $jk$th is $\\partial^2\n",
    "C / \\partial w_j \\partial w_k$\n",
    "\n",
    "By taking derivative and set it to zero we would have:\n",
    "\n",
    "$\\begin{eqnarray}\n",
    "  \\Delta w = -H^{-1} \\nabla C.\n",
    "\\end{eqnarray}$\n",
    "\n",
    "\n",
    "$w_{n+1} = w_{n} -\\eta H^{-1} \\nabla C$\n",
    "\n",
    "\n",
    "Pros: There are theoretical and empirical results showing that Hessian methods converge on a minimum in fewer steps than standard gradient descent.\n",
    "\n",
    "Cons:  it's very difficult to apply in practice. Suppose you have a neural network with $10^7$ weights and biases. Then the corresponding Hessian matrix will contain $10^7\n",
    "\\times 10^7 = 10^{14}$\n",
    "\n"
   ]
  },
  {
   "cell_type": "markdown",
   "metadata": {},
   "source": [
    "## Momentum-based gradient descent\n",
    "Exponential moving average\n",
    "\n",
    "$\\begin{eqnarray}  & v_{n+1} = \\mu v_{n} - \\eta \\nabla C \\end{eqnarray}$\n",
    "  \n",
    "$\\begin{eqnarray}  w_{n+1} = w_{n}+v_{n+1}.\n",
    "\\end{eqnarray}$\n",
    "\n",
    "Refs: [1](https://en.wikipedia.org/wiki/Moving_average#Exponential_moving_average), [2](https://github.com/utkarshchawla/GradientDescentVariants)\n"
   ]
  },
  {
   "cell_type": "markdown",
   "metadata": {},
   "source": [
    "# Adaptive Learning rate optimizers\n",
    "They are able to learn more along one direction than another. Suppose in your data $x,y,z$, $y$ is chaning alot but $x$ and $z$ are not.\n",
    "Adagrad, Adadelta, rmsprop\n",
    "\n",
    "Refs: [1](https://www.youtube.com/watch?v=mdKjMPmcWjY), [2](https://www.youtube.com/watch?v=GSmW59dM0-o), [3](https://www.youtube.com/watch?v=EGt-UOIIdDk), [4](https://www.youtube.com/watch?v=EGt-UOIIdDk)"
   ]
  },
  {
   "cell_type": "markdown",
   "metadata": {},
   "source": [
    "## Adagrad\n",
    "\n",
    "parameters that we are learning should be updated with different learning rates. In the general case, when we don't know exactly the terms of our cost function, one conservative rule for updating would be to use smaller learning rates on the directions with \"big\" gradients. This would prevent us from overshooting on these directions if the decision of moving along them with a big step was wrong.\n",
    "\n",
    "$f(x,y)=20x^2+y^2$\n"
   ]
  },
  {
   "cell_type": "markdown",
   "metadata": {},
   "source": [
    "$\\eta _x=0.05$, \n",
    "$\\eta _y=0.05$\n",
    "\n",
    "<img src='../nn/images/eta_x_0.05_eta_y_0.05.png'>"
   ]
  },
  {
   "cell_type": "markdown",
   "metadata": {},
   "source": [
    "$\\eta _x=0.015$, \n",
    "$\\eta _y=0.015$\n",
    "\n",
    "<img src='../nn/images/eta_x_0.015_eta_y_0.015.png'/>\n"
   ]
  },
  {
   "cell_type": "markdown",
   "metadata": {},
   "source": [
    "$\\eta _x=0.015$, \n",
    "$\\eta _y=0.05$\n",
    "\n",
    "<img src='../nn/images/eta_x_0.015_eta_y_0.05.png'/>"
   ]
  },
  {
   "cell_type": "markdown",
   "metadata": {},
   "source": [
    "$\\mathbf{w}_{t+1}= \\mathbf{w}_t - \\frac{\\alpha}{\\sqrt{\\epsilon  + \\text{diag}(G)}}\\,\\,g$\n",
    "\n",
    "\n",
    "Where **w** is the vector of parameters that we want to update, *g* is the gradient of the cost function w.r.t. these parameters **w**, *t* is the number of the iteration taking place and $G_t$ is given by:\n",
    "\n",
    "$G=\\sum_{\\tau=1}^{t} g_\\tau\\,g_\\tau^T$"
   ]
  },
  {
   "cell_type": "markdown",
   "metadata": {},
   "source": [
    " if we have a look at one parameter $w_j$ from the vector $W=[w_1,w_2,...,w_n]^T$, we have:"
   ]
  },
  {
   "cell_type": "markdown",
   "metadata": {},
   "source": [
    "$w_{t+1}^j = w_t^j - \\frac{\\alpha}{\\sqrt{\\epsilon + G^{jj}}}\\,\\,g^j $\n",
    "\n",
    "$G^{jj}=\\sum_{\\tau=1}^{t+1}(g_\\tau^j)^2$"
   ]
  },
  {
   "cell_type": "markdown",
   "metadata": {},
   "source": [
    "As *t* increase the learning rate related to the parameter $w_j$ will tend to decrease. This is because in the denominator we have the cummulative sum of the absolute value of its previous gradients. Adagrad will automatically give a lower learning rate to the updates in $x$ than on $y$.\n",
    "\n",
    "So if your function is convex it slow down as it goes toward minimum but if it is not non-convex, it will stuck in the saddle points."
   ]
  },
  {
   "cell_type": "markdown",
   "metadata": {},
   "source": [
    "### Relation to the more/less common features\n",
    "\n",
    "Refs [1](https://datascience.stackexchange.com/questions/82240/why-sparse-features-should-have-bigger-learning-rates-associated-and-how-adagra#:~:text=Adagrad%20allows%20us%20to%20give,lower%20gradients%20(in%20magnitude).)"
   ]
  },
  {
   "cell_type": "code",
   "execution_count": null,
   "metadata": {},
   "outputs": [],
   "source": []
  },
  {
   "cell_type": "markdown",
   "metadata": {},
   "source": [
    "### RMSProp\n",
    "Instead of leting the denominator get bigger and bigger over time we can have a decay factor, $\\gamma$ the reduce the importance of accumalted weights and current gradient.\n",
    "\n",
    "\n",
    "${\\displaystyle v(w,t)=\\gamma v(w,t-1)+(1-\\gamma )\\nabla f_{i}(w)^{2}}$\n",
    "\n",
    "\n",
    "${\\displaystyle w=w-{\\frac {\\eta }{\\sqrt {v(w,t)}}}\\nabla f_{i}(w)}$\n",
    "\n",
    "\n",
    "\n",
    "\n",
    "Refs [1](https://youtu.be/_JB0AO7QxSA?list=PL3FW7Lu3i5JvHM8ljYj-zLfQRF3EO8sYv&t=2137), [2](https://www.youtube.com/watch?v=oYWmIaKX_OY)"
   ]
  },
  {
   "cell_type": "markdown",
   "metadata": {},
   "source": [
    "### Adam\n",
    "\n",
    "$\\text{first moment} \\leftarrow 0$\n",
    "\n",
    "$\\text{second moment} \\leftarrow 0$\n",
    "\n",
    "$\\beta_1 \\leftarrow 0.9$\n",
    "\n",
    "$\\beta_2 \\leftarrow 0.999$\n",
    "\n",
    "$\\eta \\leftarrow 0.001 \\text{ or } 0.0005$\n",
    "\n",
    "$\\text{first moment}=\\beta_1 \\times \\text{first moment} +(1-\\beta_1)\\times \\nabla f(w) \\leftarrow \\text{Momentum} $\n",
    "\n",
    "$\\text{second moment}=\\beta_2 \\times \\text{second moment} +(1-\\beta_2)\\times \\nabla f(w)^2  \\leftarrow \\text{AdaGrad/ RMSProp} $\n",
    "\n",
    "Since we start both $\\beta_1$ and $\\beta_2$ at 0, they will cause huge jump so we need **Bias Correction**:\n",
    "\n",
    "\n",
    "$\\text{Bias Correction} \\leftarrow  \\left\\{\\begin{matrix}\n",
    "\\text{first moment unbias}=\\frac{\\text{first moment}}{(1-\\beta_1^t)}\n",
    "\\\\\n",
    "\\text{second moment unbias}=\\frac{second moment}{(1-\\beta_2 ^t )} \n",
    "\\end{matrix}\\right.$\n",
    "\n",
    "\n",
    "$w=w- \\frac{\\eta* \\text{first moment unbias}}{\\sqrt[]{\\text{second moment unbias}+\\epsilon}}  \\leftarrow \\text{AdaGrad/ RMSProp}   $\n",
    "\n",
    "Refs: [1](https://youtu.be/_JB0AO7QxSA?list=PL3FW7Lu3i5JvHM8ljYj-zLfQRF3EO8sYv&t=2303),[2](https://www.youtube.com/watch?v=Syom0iwanHo&t=13s)"
   ]
  },
  {
   "cell_type": "markdown",
   "metadata": {},
   "source": [
    "### Nesterov's Accelerated Gradient\n",
    "Refs: [1](https://www.youtube.com/watch?v=uHOTRHqnakQ)"
   ]
  },
  {
   "cell_type": "markdown",
   "metadata": {},
   "source": [
    "### Adagrad\n",
    "Refs [1](https://youtu.be/_JB0AO7QxSA?list=PL3FW7Lu3i5JvHM8ljYj-zLfQRF3EO8sYv&t=1994)"
   ]
  },
  {
   "cell_type": "markdown",
   "metadata": {},
   "source": [
    "## List of available pytorch optimizers\n",
    "\n",
    "https://github.com/jettify/pytorch-optimizer"
   ]
  }
 ],
 "metadata": {
  "kernelspec": {
   "display_name": "Python 3 (ipykernel)",
   "language": "python",
   "name": "python3"
  },
  "language_info": {
   "codemirror_mode": {
    "name": "ipython",
    "version": 3
   },
   "file_extension": ".py",
   "mimetype": "text/x-python",
   "name": "python",
   "nbconvert_exporter": "python",
   "pygments_lexer": "ipython3",
   "version": "3.10.13"
  }
 },
 "nbformat": 4,
 "nbformat_minor": 4
}
