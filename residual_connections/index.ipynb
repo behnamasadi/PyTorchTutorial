{
 "cells": [
  {
   "cell_type": "markdown",
   "id": "9a09b458-9e53-4882-8604-3d917ee53211",
   "metadata": {},
   "source": [
    "Residual Networks\n",
    "\n",
    "\n",
    "Refs: [1](https://www.youtube.com/watch?v=w1UsKanMatM), [2](https://www.youtube.com/watch?v=Gey9CG6R6w8)\n"
   ]
  }
 ],
 "metadata": {
  "kernelspec": {
   "display_name": "Python 3 (ipykernel)",
   "language": "python",
   "name": "python3"
  },
  "language_info": {
   "codemirror_mode": {
    "name": "ipython",
    "version": 3
   },
   "file_extension": ".py",
   "mimetype": "text/x-python",
   "name": "python",
   "nbconvert_exporter": "python",
   "pygments_lexer": "ipython3",
   "version": "3.12.2"
  }
 },
 "nbformat": 4,
 "nbformat_minor": 5
}
