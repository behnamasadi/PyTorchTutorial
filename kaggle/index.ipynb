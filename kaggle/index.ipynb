{
 "cells": [
  {
   "cell_type": "markdown",
   "id": "80f2d76e-cdd9-4539-91a2-4bb5681b7ee9",
   "metadata": {},
   "source": [
    "pip install kaggle\n",
    "\n",
    "kaggle datasets list -s \"LiDAR\"\n",
    "\n",
    "\n",
    "/home/behnam/workspace/PyTorchTutorial/.kaggle/kaggle.json\n",
    "/home/behnam/.config/kaggle/kaggle.json\n",
    "\n",
    "C:\\Users\\<YourUsername>\\.kaggle\\kaggle.json"
   ]
  },
  {
   "cell_type": "markdown",
   "id": "80644d59-b1a6-42e8-8f90-84548dfe9c58",
   "metadata": {},
   "source": [
    "[rvp group slam dataset](https://rvp-group.net/slam-dataset.html)\n",
    "\n",
    "\n",
    "Refs [1](https://www.kaggle.com/docs/api#installation)"
   ]
  }
 ],
 "metadata": {
  "kernelspec": {
   "display_name": "Python 3 (ipykernel)",
   "language": "python",
   "name": "python3"
  },
  "language_info": {
   "codemirror_mode": {
    "name": "ipython",
    "version": 3
   },
   "file_extension": ".py",
   "mimetype": "text/x-python",
   "name": "python",
   "nbconvert_exporter": "python",
   "pygments_lexer": "ipython3",
   "version": "3.12.2"
  }
 },
 "nbformat": 4,
 "nbformat_minor": 5
}
