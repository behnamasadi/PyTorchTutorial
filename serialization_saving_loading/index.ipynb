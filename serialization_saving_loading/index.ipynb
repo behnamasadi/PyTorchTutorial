{
 "cells": [
  {
   "cell_type": "code",
   "execution_count": 1,
   "id": "placed-colony",
   "metadata": {},
   "outputs": [
    {
     "name": "stdout",
     "output_type": "stream",
     "text": [
      "tensor([2., 4., 1.])\n",
      "{'a': tensor([1.2000, 3.0000]), 'b': tensor([4.2000, 3.1000])}\n"
     ]
    }
   ],
   "source": [
    "# https://pytorch.org/docs/stable/notes/serialization.html\n",
    "import torch\n",
    "\n",
    "path_to_store='../saved_networks/tutorial/'\n",
    "\n",
    "my_tesnor=torch.tensor([2.,4.,1.])\n",
    "\n",
    "torch.save(my_tesnor,path_to_store+'my_tesnor.pt')\n",
    "print(torch.load(path_to_store+'my_tesnor.pt'))\n",
    "\n",
    "\n",
    "#torch.save() and torch.load() use Python’s pickle by default, so you can also save multiple tensors as part of\n",
    "# Python objects like tuples, lists, and dicts:\n",
    "\n",
    "my_dict={'a':torch.tensor([1.2,3.0]), 'b':torch.tensor([4.2,3.1])}\n",
    "torch.save(my_dict,path_to_store+'my_dict.pt')\n",
    "print(torch.load(path_to_store+'my_dict.pt'))\n"
   ]
  }
 ],
 "metadata": {
  "kernelspec": {
   "display_name": "Python 3",
   "language": "python",
   "name": "python3"
  },
  "language_info": {
   "codemirror_mode": {
    "name": "ipython",
    "version": 3
   },
   "file_extension": ".py",
   "mimetype": "text/x-python",
   "name": "python",
   "nbconvert_exporter": "python",
   "pygments_lexer": "ipython3",
   "version": "3.8.2"
  }
 },
 "nbformat": 4,
 "nbformat_minor": 5
}
