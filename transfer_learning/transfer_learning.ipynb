{
 "cells": [
  {
   "cell_type": "markdown",
   "metadata": {},
   "source": [
    "# Transfer Learning\n",
    "## Feature Extraction\n",
    "Feature extraction: we start with a pretrained model and only update the final layer weights from which we derive predictions. \n",
    "\n",
    "## Finetuning a Pretrained Network\n",
    "Finetuning: In finetuning, we start with a pretrained model and update all of the model’s parameters for our new task, in essence retraining the whole model\n",
    "\n",
    "\n",
    "Refs: [1](https://ruder.io/transfer-learning/), [2](https://cs231n.github.io/transfer-learning/)"
   ]
  }
 ],
 "metadata": {
  "kernelspec": {
   "display_name": "Python 3",
   "language": "python",
   "name": "python3"
  },
  "language_info": {
   "codemirror_mode": {
    "name": "ipython",
    "version": 3
   },
   "file_extension": ".py",
   "mimetype": "text/x-python",
   "name": "python",
   "nbconvert_exporter": "python",
   "pygments_lexer": "ipython3",
   "version": "3.8.2"
  }
 },
 "nbformat": 4,
 "nbformat_minor": 4
}
