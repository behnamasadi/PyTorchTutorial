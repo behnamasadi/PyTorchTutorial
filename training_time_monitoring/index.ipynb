{
 "cells": [
  {
   "cell_type": "markdown",
   "metadata": {},
   "source": [
    "# Training-time Monitoring\n",
    "\n",
    "This notebook covers essential practices for monitoring your PyTorch models during training phase.\n",
    "\n",
    "## Topics Covered\n",
    "\n",
    "1. **Experiment Tracking**\n",
    "   - Weights & Biases (WandB)\n",
    "   - MLflow\n",
    "   - Neptune\n",
    "\n",
    "2. **Logging Best Practices**\n",
    "   - Configuration logging\n",
    "   - Dataset versions\n",
    "   - Metrics tracking\n",
    "   - Artifacts management\n",
    "   - System metrics (GPU/CPU/memory)\n",
    "\n",
    "3. **Data Validation**\n",
    "   - Great Expectations\n",
    "   - Schema checks\n",
    "   - Label distribution checks\n",
    "\n",
    "4. **Performance Profiling**\n",
    "   - torch.profiler\n",
    "   - TensorBoard traces\n",
    "   - DataLoader bottlenecks\n"
   ]
  },
  {
   "cell_type": "markdown",
   "metadata": {},
   "source": [
    "## 1. Experiment Tracking with Weights & Biases\n"
   ]
  },
  {
   "cell_type": "code",
   "execution_count": null,
   "metadata": {},
   "outputs": [],
   "source": [
    "import torch\n",
    "import torch.nn as nn\n",
    "import torch.optim as optim\n",
    "import wandb\n",
    "import os\n",
    "from datetime import datetime\n",
    "\n",
    "# Initialize wandb\n",
    "wandb.init(\n",
    "    project=\"pytorch-monitoring-demo\",\n",
    "    config={\n",
    "        \"learning_rate\": 0.001,\n",
    "        \"epochs\": 10,\n",
    "        \"batch_size\": 32,\n",
    "        \"architecture\": \"CNN\",\n",
    "        \"dataset\": \"CIFAR-10\"\n",
    "    }\n",
    ")\n"
   ]
  },
  {
   "cell_type": "markdown",
   "metadata": {},
   "source": [
    "## 2. System Metrics Logging\n"
   ]
  },
  {
   "cell_type": "code",
   "execution_count": null,
   "metadata": {},
   "outputs": [],
   "source": [
    "import psutil\n",
    "import GPUtil\n",
    "\n",
    "def log_system_metrics():\n",
    "    \"\"\"Log system metrics during training\"\"\"\n",
    "    # CPU metrics\n",
    "    cpu_percent = psutil.cpu_percent(interval=1)\n",
    "    memory = psutil.virtual_memory()\n",
    "    \n",
    "    # GPU metrics (if available)\n",
    "    gpu_metrics = {}\n",
    "    if torch.cuda.is_available():\n",
    "        gpus = GPUtil.getGPUs()\n",
    "        if gpus:\n",
    "            gpu = gpus[0]\n",
    "            gpu_metrics = {\n",
    "                \"gpu_utilization\": gpu.load * 100,\n",
    "                \"gpu_memory_used\": gpu.memoryUsed,\n",
    "                \"gpu_memory_total\": gpu.memoryTotal,\n",
    "                \"gpu_temperature\": gpu.temperature\n",
    "            }\n",
    "    \n",
    "    metrics = {\n",
    "        \"system/cpu_percent\": cpu_percent,\n",
    "        \"system/memory_percent\": memory.percent,\n",
    "        \"system/memory_used_gb\": memory.used / (1024**3),\n",
    "        **gpu_metrics\n",
    "    }\n",
    "    \n",
    "    return metrics\n",
    "\n",
    "# Example usage\n",
    "system_metrics = log_system_metrics()\n",
    "print(\"System Metrics:\", system_metrics)\n"
   ]
  }
 ],
 "metadata": {
  "kernelspec": {
   "display_name": "Python 3 (ipykernel)",
   "language": "python",
   "name": "python3"
  },
  "language_info": {
   "codemirror_mode": {
    "name": "ipython",
    "version": 3
   },
   "file_extension": ".py",
   "mimetype": "text/x-python",
   "name": "python",
   "nbconvert_exporter": "python",
   "pygments_lexer": "ipython3",
   "version": "3.12.2"
  }
 },
 "nbformat": 4,
 "nbformat_minor": 4
}
