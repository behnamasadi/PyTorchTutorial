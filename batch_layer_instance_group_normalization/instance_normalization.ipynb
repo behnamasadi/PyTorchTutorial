{
 "cells": [
  {
   "cell_type": "code",
   "execution_count": null,
   "id": "d5f5c68e-d9d6-4297-a57f-0999d95f8c24",
   "metadata": {},
   "outputs": [],
   "source": []
  }
 ],
 "metadata": {
  "kernelspec": {
   "display_name": "Python 3 (ipykernel)",
   "language": "python",
   "name": "python3"
  },
  "language_info": {
   "codemirror_mode": {
    "name": "ipython",
    "version": 3
   },
   "file_extension": ".py",
   "mimetype": "text/x-python",
   "name": "python",
   "nbconvert_exporter": "python",
   "pygments_lexer": "ipython3",
   "version": "3.12.2"
  }
 },
 "nbformat": 4,
 "nbformat_minor": 5
}
