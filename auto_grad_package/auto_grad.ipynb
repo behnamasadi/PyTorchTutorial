{
 "cells": [
  {
   "cell_type": "markdown",
   "metadata": {},
   "source": [
    "## Autograd\n",
    "\n",
    "$f(w,x)=\\frac{1}{1+e^{-(w_{0}x_{0}+w_{1}x_{1}+w_{2})}}$\n"
   ]
  },
  {
   "cell_type": "markdown",
   "metadata": {},
   "source": [
    "## Computational Graph\n",
    "<img src='images/auto.svg' />"
   ]
  },
  {
   "cell_type": "markdown",
   "metadata": {},
   "source": [
    "## Intermediate Functions\n",
    "\n",
    "$a=w_{0}*x_{0}$\n",
    "\n",
    "$b=w_{1}*x_{1}$\n",
    "\n",
    "$c=a+b$\n",
    "\n",
    "$d=c+w_{2}$\n",
    "\n",
    "$e=-d$\n",
    "\n",
    "$f=exp(e)$\n",
    "\n",
    "$g=1+f$\n",
    "\n",
    "$h=1/g$\n",
    "\n"
   ]
  },
  {
   "cell_type": "markdown",
   "metadata": {},
   "source": [
    "## Input Values\n",
    "$w_0=2.0$\n",
    "\n",
    "$x_0=-1.0$\n",
    "\n",
    "$w_1=-3.0$\n",
    "\n",
    "$x_1=-2.0$\n",
    "\n",
    "$w_2=-3.0$\n",
    "\n",
    "## Forward\n",
    "$a= -2.0$\n",
    "\n",
    "$b= 6.0$\n",
    "\n",
    "$c= 4.0$\n",
    "\n",
    "$d= 1.0$\n",
    "\n",
    "$e= -1.0$\n",
    "\n",
    "$f= 0.36$\n",
    "\n",
    "$g= 1.36$\n",
    "\n",
    "$h= 0.73$\n"
   ]
  },
  {
   "cell_type": "markdown",
   "metadata": {},
   "source": [
    "## Backward Gradients\n",
    "1) $\\frac{\\partial h  }{\\partial h }=1$\n",
    "\n",
    "2) $\\frac{\\partial h }{\\partial g }=\\frac{-1}{g^2}=-0.53$\n",
    "\n",
    "$\\frac{\\partial g }{\\partial f }=1$\n",
    "\n",
    "3) $\\frac{\\partial h }{\\partial f }=\\frac{\\partial h }{\\partial g }\\frac{\\partial g }{\\partial f }=-0.53$\n",
    "\n",
    "$\\frac{\\partial f }{\\partial e}=exp(e)=0.36$\n",
    "\n",
    "4) $\\frac{\\partial h }{\\partial e}=\\frac{\\partial h }{\\partial f}\\frac{\\partial f }{\\partial e}=-0.53* 0.36=-0.19$\n",
    "\n",
    "$\\frac{\\partial e }{\\partial d}=-1$\n",
    "\n",
    "5) $\\frac{\\partial h }{\\partial d}=\\frac{\\partial h }{\\partial e}\\frac{\\partial e }{\\partial d}=-0.19*-1=0.19$\n",
    "\n",
    "$\\frac{\\partial d }{\\partial c}=1$\n",
    "\n",
    "6) $\\frac{\\partial h }{\\partial c}=\\frac{\\partial h }{\\partial d}\\frac{\\partial d }{\\partial c}=0.19*1=0.19$\n",
    "\n",
    "$\\frac{\\partial d }{\\partial w_2}=1$\n",
    "\n",
    "7) $\\frac{\\partial h }{\\partial w_2}=\\frac{\\partial h }{\\partial d}\\frac{\\partial d }{\\partial w_2}=0.19*1=0.19$\n",
    "\n",
    "$\\frac{\\partial c }{\\partial a}=1$\n",
    "\n",
    "8) $\\frac{\\partial h }{\\partial a}=\\frac{\\partial h }{\\partial c}\\frac{\\partial c }{\\partial a}=0.19*1=0.19$\n",
    "\n",
    "$\\frac{\\partial c }{\\partial b}=1$\n",
    "\n",
    "9) $\\frac{\\partial h }{\\partial b}=\\frac{\\partial h }{\\partial c}\\frac{\\partial c }{\\partial b}=0.19*1=0.19$\n",
    "\n",
    "$\\frac{\\partial a }{\\partial w_0}=x_0$\n",
    "\n",
    "10) $\\frac{\\partial h }{\\partial w_0}=\\frac{\\partial h }{\\partial a}=\\frac{\\partial a }{\\partial w_0}=0.19*x_0=-0.19$\n",
    "\n",
    "$\\frac{\\partial a }{\\partial x_0 }=w_0$\n",
    "\n",
    "11) $\\frac{\\partial h }{\\partial x_0 }=\\frac{\\partial h }{\\partial a }\\frac{\\partial a}{\\partial x_0 }=0.19*w_0=0.38$\n",
    "\n",
    "$\\frac{\\partial b }{\\partial w_1}=x_0$\n",
    "\n",
    "12) $\\frac{\\partial h }{\\partial w_1}=\\frac{\\partial h }{\\partial b}\\frac{\\partial b }{\\partial w_1}=0.19* x_0=-0.19$\n",
    "\n",
    "$\\frac{\\partial b }{\\partial x_1}=w_1$\n",
    "\n",
    "13) $\\frac{\\partial h }{\\partial x_1}=\\frac{\\partial h }{\\partial b}\\frac{\\partial b }{\\partial x_1}=0.19*w_1=-0.57$\n"
   ]
  },
  {
   "cell_type": "code",
   "execution_count": 2,
   "metadata": {},
   "outputs": [
    {
     "name": "stdout",
     "output_type": "stream",
     "text": [
      "a= tensor(-2., grad_fn=<MulBackward0>)\n",
      "b= tensor(6., grad_fn=<MulBackward0>)\n",
      "c= tensor(4., grad_fn=<AddBackward0>)\n",
      "d= tensor(1., grad_fn=<AddBackward0>)\n",
      "e= tensor(-1., grad_fn=<NegBackward>)\n",
      "f= tensor(0.3679, grad_fn=<ExpBackward>)\n",
      "g= tensor(1.3679, grad_fn=<AddBackward0>)\n",
      "h= tensor(0.7311, grad_fn=<MulBackward0>)\n",
      "dh/dw0= tensor(-0.1966)\n",
      "dh/dx0= tensor(0.3932)\n",
      "dh/dw1= tensor(-0.3932)\n",
      "dh/dx1= tensor(-0.3932)\n",
      "dh/dw2= tensor(0.1966)\n"
     ]
    }
   ],
   "source": [
    "import torch\n",
    "w0=torch.tensor(2.0,requires_grad=True )\n",
    "x0=torch.tensor(-1.0,requires_grad=True)\n",
    "\n",
    "w1=torch.tensor(-3.0,requires_grad=True)\n",
    "x1=torch.tensor(-2.0,requires_grad=True)\n",
    "\n",
    "w2=torch.tensor(-3.0,requires_grad=True)\n",
    "\n",
    "\n",
    "a=w0*x0\n",
    "b=w1*x1\n",
    "c=a+b\n",
    "d=c+w2\n",
    "e=-d\n",
    "f=torch.exp(e)\n",
    "g=1+f\n",
    "h=1/g\n",
    "\n",
    "print(\"a=\",a)\n",
    "print(\"b=\",b)\n",
    "print(\"c=\",c)\n",
    "print(\"d=\",d)\n",
    "print(\"e=\",e)\n",
    "print(\"f=\",f)\n",
    "print(\"g=\",g)\n",
    "print(\"h=\",h)\n",
    "\n",
    "\n",
    "h.backward()\n",
    "print(\"dh/dw0=\",w0.grad)\n",
    "print(\"dh/dx0=\",x0.grad)\n",
    "print(\"dh/dw1=\",w1.grad)\n",
    "print(\"dh/dx1=\",w1.grad)\n",
    "print(\"dh/dw2=\",w2.grad)"
   ]
  }
 ],
 "metadata": {
  "kernelspec": {
   "display_name": "Python 3",
   "language": "python",
   "name": "python3"
  },
  "language_info": {
   "codemirror_mode": {
    "name": "ipython",
    "version": 3
   },
   "file_extension": ".py",
   "mimetype": "text/x-python",
   "name": "python",
   "nbconvert_exporter": "python",
   "pygments_lexer": "ipython3",
   "version": "3.7.9"
  }
 },
 "nbformat": 4,
 "nbformat_minor": 4
}
