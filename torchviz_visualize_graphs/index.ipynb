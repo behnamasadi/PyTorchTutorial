{
 "cells": [
  {
   "cell_type": "markdown",
   "id": "parental-ideal",
   "metadata": {},
   "source": [
    "# Visualizing Simple Graph"
   ]
  },
  {
   "cell_type": "code",
   "execution_count": 7,
   "id": "placed-colony",
   "metadata": {},
   "outputs": [
    {
     "data": {
      "text/plain": [
       "'../images/simple_graph.png'"
      ]
     },
     "execution_count": 7,
     "metadata": {},
     "output_type": "execute_result"
    }
   ],
   "source": [
    "import torchviz\n",
    "import torch\n",
    "\n",
    "a=torch.tensor([1.2],requires_grad=True)\n",
    "b=torch.tensor([2.2],requires_grad=True)\n",
    "c=torch.tensor([0.2],requires_grad=True)\n",
    "d=torch.tensor([0.8],requires_grad=True)\n",
    "e=torch.tensor([7.],requires_grad=True)\n",
    "\n",
    "f=d*((a+b)*(c))+e\n",
    "\n",
    "f.backward()\n",
    "\n",
    "f_params={'a':a,'b':b,'c':c,'d':d,'e':e}\n",
    "\n",
    "\n",
    "dot=torchviz.make_dot(f,params=f_params)\n",
    "\n",
    "#dot.format='svg'\n",
    "dot.format='png'\n",
    "dot.render(filename='simple_graph', directory='../images')"
   ]
  },
  {
   "cell_type": "markdown",
   "id": "neural-navigation",
   "metadata": {},
   "source": [
    "<img src='../images/simple_graph.png'>"
   ]
  },
  {
   "cell_type": "markdown",
   "id": "sustained-collins",
   "metadata": {},
   "source": [
    "# Visualizing nn.Module "
   ]
  },
  {
   "cell_type": "code",
   "execution_count": 10,
   "id": "following-wales",
   "metadata": {},
   "outputs": [
    {
     "name": "stdout",
     "output_type": "stream",
     "text": [
      "tensor([[0.6146, 0.8220]], grad_fn=<TanhBackward>)\n"
     ]
    },
    {
     "data": {
      "text/plain": [
       "'../images/nn.Module.png'"
      ]
     },
     "execution_count": 10,
     "metadata": {},
     "output_type": "execute_result"
    }
   ],
   "source": [
    "import torch.nn\n",
    "\n",
    "\n",
    "class Net(torch.nn.Module):\n",
    "    def __init__(self):\n",
    "        super(Net, self).__init__()\n",
    "        self.l1 = torch.nn.Linear(in_features=4,out_features= 2, bias=True)\n",
    "        return\n",
    "    def forward(self, input):\n",
    "        return torch.tanh(self.l1(input))\n",
    "\n",
    "model=Net()\n",
    "input=torch.randn(size=[1,4])\n",
    "print(model(input))\n",
    "\n",
    "\n",
    "#dot=torchviz.make_dot(model(input),params=dict(model.named_parameters()),show_attrs=True, show_saved=True )\n",
    "dot=torchviz.make_dot(model(input),params=dict(model.named_parameters()))\n",
    "#dot.format='svg'\n",
    "dot.format='png'\n",
    "dot.render(filename='nn.Module', directory='../images')"
   ]
  },
  {
   "cell_type": "markdown",
   "id": "upper-casting",
   "metadata": {},
   "source": [
    "<img src='../images/nn.Module.png'>"
   ]
  },
  {
   "cell_type": "markdown",
   "id": "rental-trust",
   "metadata": {},
   "source": [
    "# Visualizing Pre-Trained Models"
   ]
  },
  {
   "cell_type": "code",
   "execution_count": 13,
   "id": "limited-thanksgiving",
   "metadata": {},
   "outputs": [
    {
     "data": {
      "text/plain": [
       "'../images/resnet101.svg'"
      ]
     },
     "execution_count": 13,
     "metadata": {},
     "output_type": "execute_result"
    }
   ],
   "source": [
    "import torchvision\n",
    "from torchvision.datasets import MNIST\n",
    "from torch.utils.data import DataLoader\n",
    "\n",
    "train_loader=DataLoader(MNIST(root='../data/MNIST', train=True, download=True)\n",
    "                        ,batch_size=100,\n",
    "                        num_workers=8,\n",
    "                        shuffle=True)\n",
    "\n",
    "model=torchvision.models.resnet101(pretrained=True)\n",
    "x = torch.zeros(1, 3, 224, 224, dtype=torch.float, requires_grad=False)\n",
    "out = model(x)\n",
    "torchviz.make_dot(out).render(\"../images/resnet101\", format=\"svg\")"
   ]
  }
 ],
 "metadata": {
  "kernelspec": {
   "display_name": "Python 3",
   "language": "python",
   "name": "python3"
  },
  "language_info": {
   "codemirror_mode": {
    "name": "ipython",
    "version": 3
   },
   "file_extension": ".py",
   "mimetype": "text/x-python",
   "name": "python",
   "nbconvert_exporter": "python",
   "pygments_lexer": "ipython3",
   "version": "3.8.2"
  }
 },
 "nbformat": 4,
 "nbformat_minor": 5
}
