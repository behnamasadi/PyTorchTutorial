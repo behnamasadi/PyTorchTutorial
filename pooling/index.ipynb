{
 "cells": [
  {
   "cell_type": "markdown",
   "id": "registered-application",
   "metadata": {},
   "source": [
    "## Max Pool"
   ]
  },
  {
   "cell_type": "markdown",
   "id": "fleet-casino",
   "metadata": {},
   "source": [
    "## Average Pool\n"
   ]
  },
  {
   "cell_type": "markdown",
   "id": "registered-belgium",
   "metadata": {},
   "source": [
    "## Adaptive Average Pool"
   ]
  },
  {
   "cell_type": "markdown",
   "id": "realistic-marketing",
   "metadata": {},
   "source": [
    "# Relu, Pooling Order\n",
    "\n",
    "relu -> max pooling or max pooling -> relu?\n",
    "\n",
    "`MaxPool(Relu(x)) = Relu(MaxPool(x))`\n",
    "\n",
    "If you consider the final result, both orders `[conv -> relu -> max pooling]` and `[conv -> max pooling -> relu]`\n",
    "will have the same outputs. But if you compare the running time of 2 ways there will be a difference.\n",
    "\n",
    "Relu layer don’t change the size of the input. Let assume we use max pooling 2x2, so the size of input will\n",
    "be reduce by 2 in height and width when apply max poling layer ( `[w, h, d] -> max_pooling_2x2 -> [w/2, h/2, d]`).\n",
    "\n",
    "In case 1 we using relu -> max pooling the size of data will be:\n",
    "\n",
    "image [w, h, d] -> [[relu]] ->image[w, h, d]->[[max pooling]] -> image[w/2, h/2, d]\n",
    "\n",
    "In case 2 we using max pooling -> relu the size of data will be:\n",
    "\n",
    "image[w, h, d] ->[[max pooling]] -> image[w/2, h/2, d]-> [[relu]] -> image[w/2, h/2, d]\n",
    "\n",
    "image[w, h, d] -> [[relu]] vs image[w/2, h/2, d]-> [[relu]] : case 2 save 4 time computational cost than case 1\n",
    "in layer [[relu]] by using max pooling before relu.\n"
   ]
  }
 ],
 "metadata": {
  "kernelspec": {
   "display_name": "Python 3",
   "language": "python",
   "name": "python3"
  },
  "language_info": {
   "codemirror_mode": {
    "name": "ipython",
    "version": 3
   },
   "file_extension": ".py",
   "mimetype": "text/x-python",
   "name": "python",
   "nbconvert_exporter": "python",
   "pygments_lexer": "ipython3",
   "version": "3.8.2"
  }
 },
 "nbformat": 4,
 "nbformat_minor": 5
}
