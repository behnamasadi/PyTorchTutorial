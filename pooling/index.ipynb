{
 "cells": [
  {
   "cell_type": "markdown",
   "id": "rapid-astrology",
   "metadata": {},
   "source": [
    "## Max Pool"
   ]
  },
  {
   "cell_type": "markdown",
   "id": "atmospheric-skirt",
   "metadata": {},
   "source": [
    "## Average Pool\n"
   ]
  },
  {
   "cell_type": "markdown",
   "id": "intimate-oakland",
   "metadata": {},
   "source": [
    "## Adaptive Average Pool"
   ]
  }
 ],
 "metadata": {
  "kernelspec": {
   "display_name": "Python 3",
   "language": "python",
   "name": "python3"
  },
  "language_info": {
   "codemirror_mode": {
    "name": "ipython",
    "version": 3
   },
   "file_extension": ".py",
   "mimetype": "text/x-python",
   "name": "python",
   "nbconvert_exporter": "python",
   "pygments_lexer": "ipython3",
   "version": "3.8.2"
  }
 },
 "nbformat": 4,
 "nbformat_minor": 5
}
