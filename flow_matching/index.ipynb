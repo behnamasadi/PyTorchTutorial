{
 "cells": [
  {
   "cell_type": "markdown",
   "id": "f1a9d8fc-c318-4904-ad83-5d3fc7f66065",
   "metadata": {},
   "source": [
    "## Flow Matching\n",
    "\n",
    "\n",
    "Refs: [1](https://www.youtube.com/watch?v=DDq_pIfHqLs), [2](https://www.youtube.com/watch?v=rcWMRA9E5RI), [3](https://www.youtube.com/watch?v=i7LjDvsLWCg)"
   ]
  }
 ],
 "metadata": {
  "kernelspec": {
   "display_name": "Python 3 (ipykernel)",
   "language": "python",
   "name": "python3"
  },
  "language_info": {
   "codemirror_mode": {
    "name": "ipython",
    "version": 3
   },
   "file_extension": ".py",
   "mimetype": "text/x-python",
   "name": "python",
   "nbconvert_exporter": "python",
   "pygments_lexer": "ipython3",
   "version": "3.12.2"
  }
 },
 "nbformat": 4,
 "nbformat_minor": 5
}
