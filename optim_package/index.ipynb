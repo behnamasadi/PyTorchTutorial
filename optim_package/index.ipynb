{
 "cells": [
  {
   "cell_type": "markdown",
   "id": "51c9e868-8883-41bb-a60b-980160e78218",
   "metadata": {},
   "source": []
  },
  {
   "cell_type": "markdown",
   "id": "55316948-7d03-44ef-b885-e0193551f445",
   "metadata": {},
   "source": []
  },
  {
   "cell_type": "markdown",
   "id": "2421036c-4090-42c9-a22e-3931fe8a47b3",
   "metadata": {},
   "source": []
  },
  {
   "cell_type": "markdown",
   "id": "4baee105-c280-4f0f-905c-776c3d98c68f",
   "metadata": {},
   "source": [
    "[Full reference](https://distill.pub/2017/momentum/)"
   ]
  },
  {
   "cell_type": "markdown",
   "id": "9b307eeb-4254-4ca9-8e6b-19ef21724f38",
   "metadata": {},
   "source": [
    "[MOMENTUM Gradient Descent](https://www.youtube.com/watch?v=iudXf5n_3ro)"
   ]
  },
  {
   "cell_type": "markdown",
   "id": "1e3699d0-74a5-4d80-bb82-e00fc7724178",
   "metadata": {},
   "source": [
    "[AdamW - L2 Regularization vs Weight Decay](https://www.youtube.com/watch?v=oWZbcq_figk&t=134s)"
   ]
  },
  {
   "cell_type": "markdown",
   "id": "cc725572-2b6f-45e5-a8ed-6745a2c1ea34",
   "metadata": {},
   "source": [
    "[Optimizers - EXPLAINED](https://www.youtube.com/watch?v=mdKjMPmcWjY)"
   ]
  },
  {
   "cell_type": "markdown",
   "id": "059b026e-c16a-49e2-b076-1ab950459042",
   "metadata": {},
   "source": [
    "[https://www.youtube.com/watch?v=MD2fYip6QsQ](https://www.youtube.com/watch?v=MD2fYip6QsQ)"
   ]
  },
  {
   "cell_type": "markdown",
   "id": "4e7a28cf-f8f7-40b5-8094-0510a667dab5",
   "metadata": {},
   "source": [
    "[Optimization for Deep Learning (Momentum, RMSprop, AdaGrad, Adam)](https://www.youtube.com/watch?v=NE88eqLngkg)"
   ]
  },
  {
   "cell_type": "markdown",
   "id": "b5070b5a-b13e-416a-acdc-f5fb5d789349",
   "metadata": {},
   "source": [
    "[Optimization in Deep Learning](https://www.youtube.com/watch?v=M2xkmc2oHUc)"
   ]
  },
  {
   "cell_type": "markdown",
   "id": "162a3c56-8d64-4d1f-9144-de2d44db125b",
   "metadata": {},
   "source": []
  },
  {
   "cell_type": "markdown",
   "id": "6ebfbc60-43e2-4c23-a486-0a9b7511afcc",
   "metadata": {},
   "source": []
  },
  {
   "cell_type": "markdown",
   "id": "3e976ce1-abd4-407f-9113-93abadc3491d",
   "metadata": {},
   "source": []
  },
  {
   "cell_type": "markdown",
   "id": "ea6c3bbf-0e4a-41a6-89c3-007fda900a36",
   "metadata": {},
   "source": []
  },
  {
   "cell_type": "markdown",
   "id": "4aef8f6e-531d-4b52-8b40-5e4ed99b9d59",
   "metadata": {},
   "source": []
  },
  {
   "cell_type": "markdown",
   "id": "3d5490db-2802-42f5-a0a0-b7537ab3311d",
   "metadata": {},
   "source": []
  },
  {
   "cell_type": "markdown",
   "id": "5f19a16f-4f4f-4dc7-8b87-a60bd6d79040",
   "metadata": {},
   "source": []
  },
  {
   "cell_type": "markdown",
   "id": "bef4171c-70d6-4b6e-9088-a4358fb73173",
   "metadata": {},
   "source": []
  },
  {
   "cell_type": "markdown",
   "id": "3494714e-66e8-44e5-baea-33aa01172295",
   "metadata": {},
   "source": []
  },
  {
   "cell_type": "code",
   "execution_count": null,
   "id": "4e1d70ac-1961-408e-8b69-285df0a77428",
   "metadata": {},
   "outputs": [],
   "source": []
  }
 ],
 "metadata": {
  "kernelspec": {
   "display_name": "Python 3 (ipykernel)",
   "language": "python",
   "name": "python3"
  },
  "language_info": {
   "codemirror_mode": {
    "name": "ipython",
    "version": 3
   },
   "file_extension": ".py",
   "mimetype": "text/x-python",
   "name": "python",
   "nbconvert_exporter": "python",
   "pygments_lexer": "ipython3",
   "version": "3.12.2"
  }
 },
 "nbformat": 4,
 "nbformat_minor": 5
}
