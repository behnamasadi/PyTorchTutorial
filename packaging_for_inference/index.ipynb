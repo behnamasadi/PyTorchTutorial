{
  "cells": [
    {
      "cell_type": "markdown",
      "metadata": {},
      "source": [
        "# Packaging for Inference\n",
        "\n",
        "This notebook covers model packaging and optimization techniques for production inference.\n",
        "\n",
        "## Topics Covered\n",
        "\n",
        "1. **Model Export Formats**\n",
        "   - TorchScript (JIT compilation)\n",
        "   - ONNX (Open Neural Network Exchange)\n",
        "   - TensorRT optimization\n",
        "\n",
        "2. **Model Optimizations**\n",
        "   - Mixed precision (FP16/BF16)\n",
        "   - Quantization (Post-Training & Quantization-Aware Training)\n",
        "   - Dynamic batching\n",
        "   - Graph optimization\n",
        "\n",
        "3. **Model Registry & Versioning**\n",
        "   - MLflow Model Registry\n",
        "   - Weights & Biases Artifacts\n",
        "   - S3/Cloud storage patterns\n",
        "   - Model versioning strategies\n",
        "\n",
        "4. **Deployment Packaging**\n",
        "   - Docker containerization\n",
        "   - Dependency management\n",
        "   - Environment reproducibility\n"
      ]
    },
    {
      "cell_type": "code",
      "execution_count": null,
      "metadata": {},
      "outputs": [],
      "source": [
        "import torch\n",
        "import torch.nn as nn\n",
        "import torch.quantization as quantization\n",
        "import torchvision.models as models\n",
        "import onnx\n",
        "import onnxruntime as ort\n",
        "import numpy as np\n",
        "import time\n",
        "from pathlib import Path\n",
        "import mlflow\n",
        "import mlflow.pytorch\n"
      ]
    },
    {
      "cell_type": "markdown",
      "metadata": {},
      "source": [
        "## 1. TorchScript Export\n"
      ]
    },
    {
      "cell_type": "code",
      "execution_count": null,
      "metadata": {},
      "outputs": [],
      "source": [
        "def export_to_torchscript(model, example_input, save_path=\"model_scripted.pt\"):\n",
        "    \"\"\"\n",
        "    Export PyTorch model to TorchScript format\n",
        "    \"\"\"\n",
        "    model.eval()\n",
        "    \n",
        "    # Method 1: Tracing (for models without control flow)\n",
        "    try:\n",
        "        traced_model = torch.jit.trace(model, example_input)\n",
        "        traced_model.save(f\"traced_{save_path}\")\n",
        "        print(f\"Model traced and saved to traced_{save_path}\")\n",
        "        \n",
        "        # Verify the traced model\n",
        "        with torch.no_grad():\n",
        "            original_output = model(example_input)\n",
        "            traced_output = traced_model(example_input)\n",
        "            \n",
        "        if torch.allclose(original_output, traced_output, rtol=1e-3):\n",
        "            print(\"✓ Traced model outputs match original model\")\n",
        "        else:\n",
        "            print(\"⚠ Warning: Traced model outputs differ from original\")\n",
        "            \n",
        "    except Exception as e:\n",
        "        print(f\"Tracing failed: {e}\")\n",
        "    \n",
        "    # Method 2: Scripting (for models with control flow)\n",
        "    try:\n",
        "        scripted_model = torch.jit.script(model)\n",
        "        scripted_model.save(f\"scripted_{save_path}\")\n",
        "        print(f\"Model scripted and saved to scripted_{save_path}\")\n",
        "        \n",
        "        # Verify the scripted model\n",
        "        with torch.no_grad():\n",
        "            original_output = model(example_input)\n",
        "            scripted_output = scripted_model(example_input)\n",
        "            \n",
        "        if torch.allclose(original_output, scripted_output, rtol=1e-3):\n",
        "            print(\"✓ Scripted model outputs match original model\")\n",
        "        else:\n",
        "            print(\"⚠ Warning: Scripted model outputs differ from original\")\n",
        "            \n",
        "    except Exception as e:\n",
        "        print(f\"Scripting failed: {e}\")\n",
        "\n",
        "# Example usage\n",
        "print(\"TorchScript export function ready\")\n"
      ]
    }
  ],
  "metadata": {
    "language_info": {
      "name": "python"
    }
  },
  "nbformat": 4,
  "nbformat_minor": 2
}
