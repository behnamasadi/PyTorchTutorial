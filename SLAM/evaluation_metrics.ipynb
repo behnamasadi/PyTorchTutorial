{
 "cells": [
  {
   "cell_type": "markdown",
   "id": "e9e4e17a-57c2-4451-a800-61a0954f5814",
   "metadata": {},
   "source": [
    "##  Evaluation Metrics\n",
    "\n",
    "| Metric  | Tool      | Meaning                                  |\n",
    "| ------- | --------- | ---------------------------------------- |\n",
    "| **ATE** | `evo_ape` | Absolute Trajectory Error — global drift |\n",
    "| **RPE** | `evo_rpe` | Relative Pose Error — local accuracy     |\n"
   ]
  }
 ],
 "metadata": {
  "kernelspec": {
   "display_name": "Python 3 (ipykernel)",
   "language": "python",
   "name": "python3"
  },
  "language_info": {
   "codemirror_mode": {
    "name": "ipython",
    "version": 3
   },
   "file_extension": ".py",
   "mimetype": "text/x-python",
   "name": "python",
   "nbconvert_exporter": "python",
   "pygments_lexer": "ipython3",
   "version": "3.12.2"
  }
 },
 "nbformat": 4,
 "nbformat_minor": 5
}
