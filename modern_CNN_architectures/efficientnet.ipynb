{
 "cells": [
  {
   "cell_type": "code",
   "execution_count": 3,
   "id": "1e4a66bd-45b0-4754-8148-edca4d38b2d2",
   "metadata": {},
   "outputs": [
    {
     "data": {
      "text/plain": [
       "'images/efficientnet_b0.svg'"
      ]
     },
     "execution_count": 3,
     "metadata": {},
     "output_type": "execute_result"
    }
   ],
   "source": [
    "import torch\n",
    "import torchvision\n",
    "import torchviz\n",
    "\n",
    "\n",
    "\n",
    "efficientnet_b0=torchvision.models.efficientnet_b0(weights='EfficientNet_B0_Weights.IMAGENET1K_V1', progress= True)\n",
    "\n",
    "input=torch.randn(size=[1, 3, 224, 224])\n",
    "\n",
    "efficientnet_b0_graph=torchviz.make_dot(efficientnet_b0(input) ,dict(efficientnet_b0.named_parameters()))\n",
    "efficientnet_b0_graph.format='svg'\n",
    "efficientnet_b0_graph.save('images/efficientnet_b0')\n",
    "efficientnet_b0_graph.render()\n"
   ]
  },
  {
   "cell_type": "markdown",
   "id": "1b217930-2b7d-4c65-8ad6-0c70f03c1fa1",
   "metadata": {},
   "source": [
    "![](images/efficientnet_b0.svg)"
   ]
  }
 ],
 "metadata": {
  "kernelspec": {
   "display_name": "Python 3 (ipykernel)",
   "language": "python",
   "name": "python3"
  },
  "language_info": {
   "codemirror_mode": {
    "name": "ipython",
    "version": 3
   },
   "file_extension": ".py",
   "mimetype": "text/x-python",
   "name": "python",
   "nbconvert_exporter": "python",
   "pygments_lexer": "ipython3",
   "version": "3.12.2"
  }
 },
 "nbformat": 4,
 "nbformat_minor": 5
}
