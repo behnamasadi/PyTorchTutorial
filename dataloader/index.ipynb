{
 "cells": [
  {
   "cell_type": "markdown",
   "id": "f17d81c4-9904-43fe-aad7-50b1c66a9854",
   "metadata": {},
   "source": [
    "##  **DataLoader**\n",
    "\n",
    "\n",
    "```\n",
    "torch/\n",
    "    __init__.py\n",
    "    utils/\n",
    "        __init__.py\n",
    "        data/\n",
    "            __init__.py  # This is a crucial file that makes 'data' a Python module\n",
    "            dataset.py   # This file defines the base Dataset class and random_split\n",
    "            dataloader.py  # This file defines the DataLoader class\n",
    "            sampler.py\n",
    "```"
   ]
  },
  {
   "cell_type": "markdown",
   "id": "755fbd17-367e-4d87-b30d-4287e41cefbc",
   "metadata": {},
   "source": [
    "So, you can use: \n",
    "\n",
    "```python\n",
    "from torch.utils.data import DataLoader, random_split\n",
    "```\n",
    "\n",
    "\n",
    "or \n",
    "\n",
    "```python\n",
    "import torch.utils.data.dataset as dataset\n",
    "import torch.utils.data.dataloader as dataloader\n",
    "\n",
    "dataset.random_split()\n",
    "dataloader.DataLoader()\n",
    "\n",
    "```\n"
   ]
  },
  {
   "cell_type": "markdown",
   "id": "f8a7c67e-69eb-4903-a632-a40c3ab3f78e",
   "metadata": {},
   "source": [
    "\n",
    "The `DataLoader` handles batching, shuffling, and loading the data in parallel with multiple workers.\n",
    "\n",
    "```python\n",
    "from torch.utils.data import DataLoader\n",
    "\n",
    "dataset = MyDataset(data=torch.randn(100, 3, 32, 32), labels=torch.randint(0, 10, (100,)))\n",
    "loader = DataLoader(dataset, batch_size=16, shuffle=True, num_workers=2)\n",
    "```\n",
    "\n",
    "---\n",
    "\n",
    "###  **Using the DataLoader in Training**\n",
    "\n",
    "```python\n",
    "for batch in loader:\n",
    "    inputs, targets = batch\n",
    "    # your training loop here\n",
    "```\n",
    "\n",
    "---\n",
    "\n",
    "###  Alternative: Use Built-in Datasets\n",
    "\n",
    "PyTorch provides several datasets in `torchvision.datasets` (for images) and `torchtext`, `torchaudio`, etc.\n",
    "\n",
    "Example with CIFAR-10:\n",
    "```python\n",
    "from torchvision import datasets, transforms\n",
    "\n",
    "transform = transforms.Compose([\n",
    "    transforms.ToTensor()\n",
    "])\n",
    "\n",
    "train_dataset = datasets.CIFAR10(root='./data', train=True, download=True, transform=transform)\n",
    "train_loader = DataLoader(train_dataset, batch_size=32, shuffle=True)\n",
    "```\n",
    "\n",
    "---"
   ]
  }
 ],
 "metadata": {
  "kernelspec": {
   "display_name": "Python 3 (ipykernel)",
   "language": "python",
   "name": "python3"
  },
  "language_info": {
   "codemirror_mode": {
    "name": "ipython",
    "version": 3
   },
   "file_extension": ".py",
   "mimetype": "text/x-python",
   "name": "python",
   "nbconvert_exporter": "python",
   "pygments_lexer": "ipython3",
   "version": "3.12.2"
  }
 },
 "nbformat": 4,
 "nbformat_minor": 5
}
