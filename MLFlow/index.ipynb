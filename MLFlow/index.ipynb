{
 "cells": [
  {
   "cell_type": "code",
   "execution_count": 40,
   "id": "05d33751",
   "metadata": {},
   "outputs": [],
   "source": [
    "import mlflow\n",
    "from mlflow.models import infer_signature\n",
    "import pandas as pd\n",
    "from sklearn import datasets\n",
    "from sklearn.model_selection import train_test_split\n",
    "from sklearn.linear_model import LogisticRegression\n",
    "from sklearn.ensemble import GradientBoostingClassifier\n",
    "from sklearn.metrics import accuracy_score, precision_score, recall_score, f1_score\n",
    "from sklearn.metrics import classification_report\n",
    "from sklearn.datasets import make_classification\n",
    "import numpy as np"
   ]
  },
  {
   "cell_type": "code",
   "execution_count": 41,
   "id": "ffea2c40",
   "metadata": {},
   "outputs": [],
   "source": [
    "# Generate synthetic dataset\n",
    "X, y = make_classification(n_samples=1000, n_features=20, n_classes=3, \n",
    "                         n_informative=5, n_redundant=10, \n",
    "                         n_clusters_per_class=2, random_state=1, \n",
    "                         weights=[0.5, 0.40, 0.1])\n",
    "\n",
    "# Split the data\n",
    "X_train, X_test, y_train, y_test = train_test_split(X, y, test_size=0.2, random_state=42)\n",
    "\n",
    "# Define model parameters\n",
    "lr_params = {\n",
    "    \"solver\": \"lbfgs\",\n",
    "    \"max_iter\": 1000,\n",
    "    \"random_state\": 8888,\n",
    "}\n",
    "\n",
    "gb_params = {\n",
    "    \"n_estimators\": 100,\n",
    "    \"learning_rate\": 0.1,\n",
    "    \"random_state\": 8888,\n",
    "    \"max_depth\": 3\n",
    "}"
   ]
  },
  {
   "cell_type": "code",
   "execution_count": 42,
   "id": "e393f569",
   "metadata": {},
   "outputs": [],
   "source": [
    "X_train, X_test, y_train, y_test = train_test_split(X,y, test_size=0.2, random_state=42)"
   ]
  },
  {
   "cell_type": "code",
   "execution_count": 43,
   "id": "50e9a79f",
   "metadata": {},
   "outputs": [],
   "source": [
    "def train_and_evaluate_model(model, model_name, params, X_train, X_test, y_train, y_test):\n",
    "    with mlflow.start_run(run_name=f\"{model_name}\"):\n",
    "        # Train the model\n",
    "        model.fit(X_train, y_train)\n",
    "        \n",
    "        # Make predictions\n",
    "        y_pred = model.predict(X_test)\n",
    "        \n",
    "        # Calculate metrics\n",
    "        accuracy = accuracy_score(y_test, y_pred)\n",
    "        report_dict = classification_report(y_test, y_pred, output_dict=True)\n",
    "        \n",
    "        # Log parameters\n",
    "        mlflow.log_params(params)\n",
    "        \n",
    "        # Log overall metrics\n",
    "        mlflow.log_metric(\"accuracy\", accuracy)\n",
    "        mlflow.log_metric(\"weighted_precision\", report_dict['weighted avg']['precision'])\n",
    "        mlflow.log_metric(\"weighted_recall\", report_dict['weighted avg']['recall'])\n",
    "        mlflow.log_metric(\"weighted_f1\", report_dict['weighted avg']['f1-score'])\n",
    "        mlflow.log_metric(\"macro_avg_precision\", report_dict['macro avg']['precision'])\n",
    "        mlflow.log_metric(\"macro_avg_recall\", report_dict['macro avg']['recall'])\n",
    "        mlflow.log_metric(\"macro_avg_f1\", report_dict['macro avg']['f1-score'])\n",
    "        \n",
    "        # Log per-class metrics\n",
    "        for class_idx in range(len(report_dict) - 3):  # -3 to exclude the averages\n",
    "            class_name = str(class_idx)\n",
    "            if class_name in report_dict:\n",
    "                mlflow.log_metric(f\"class_{class_name}_precision\", report_dict[class_name]['precision'])\n",
    "                mlflow.log_metric(f\"class_{class_name}_recall\", report_dict[class_name]['recall'])\n",
    "                mlflow.log_metric(f\"class_{class_name}_f1\", report_dict[class_name]['f1-score'])\n",
    "                mlflow.log_metric(f\"class_{class_name}_support\", report_dict[class_name]['support'])\n",
    "        \n",
    "        # Log the classification report as a text artifact\n",
    "        with open(\"classification_report.txt\", \"w\") as f:\n",
    "            f.write(classification_report(y_test, y_pred))\n",
    "        mlflow.log_artifact(\"classification_report.txt\")\n",
    "        \n",
    "        # Log the model\n",
    "        signature = infer_signature(X_train, model.predict(X_train))\n",
    "        model_info = mlflow.sklearn.log_model(\n",
    "            sk_model=model,\n",
    "            artifact_path=f\"{model_name.lower()}_model\",\n",
    "            signature=signature,\n",
    "            input_example=X_train,\n",
    "            registered_model_name=f\"{model_name.lower()}-model\",\n",
    "        )\n",
    "        \n",
    "        print(f\"\\n{model_name} Results:\")\n",
    "        print(classification_report(y_test, y_pred))\n",
    "        \n",
    "        return model_info"
   ]
  },
  {
   "cell_type": "code",
   "execution_count": 44,
   "id": "550fe2ec",
   "metadata": {},
   "outputs": [
    {
     "name": "stdout",
     "output_type": "stream",
     "text": [
      "MLflow tracking URI set to: http://127.0.0.1:8080\n",
      "Using existing experiment: Model Comparison New\n",
      "Error setting up experiment: Cannot set a deleted experiment 'Model Comparison New' as the active experiment. You can restore the experiment, or permanently delete the experiment to create a new one.\n"
     ]
    },
    {
     "name": "stderr",
     "output_type": "stream",
     "text": [
      "Registered model 'logisticregression-model' already exists. Creating a new version of this model...\n",
      "2025/04/16 16:02:39 INFO mlflow.store.model_registry.abstract_store: Waiting up to 300 seconds for model version to finish creation. Model name: logisticregression-model, version 7\n",
      "Created version '7' of model 'logisticregression-model'.\n"
     ]
    },
    {
     "name": "stdout",
     "output_type": "stream",
     "text": [
      "\n",
      "LogisticRegression Results:\n",
      "              precision    recall  f1-score   support\n",
      "\n",
      "           0       0.74      0.81      0.77        91\n",
      "           1       0.72      0.73      0.73        90\n",
      "           2       0.88      0.37      0.52        19\n",
      "\n",
      "    accuracy                           0.73       200\n",
      "   macro avg       0.78      0.64      0.67       200\n",
      "weighted avg       0.74      0.73      0.73       200\n",
      "\n",
      "🏃 View run LogisticRegression at: http://127.0.0.1:8080/#/experiments/0/runs/0d4c7bb896fd48479a4dd5b0dc77c849\n",
      "🧪 View experiment at: http://127.0.0.1:8080/#/experiments/0\n"
     ]
    },
    {
     "name": "stderr",
     "output_type": "stream",
     "text": [
      "Registered model 'gradientboosting-model' already exists. Creating a new version of this model...\n",
      "2025/04/16 16:02:43 INFO mlflow.store.model_registry.abstract_store: Waiting up to 300 seconds for model version to finish creation. Model name: gradientboosting-model, version 7\n"
     ]
    },
    {
     "name": "stdout",
     "output_type": "stream",
     "text": [
      "\n",
      "GradientBoosting Results:\n",
      "              precision    recall  f1-score   support\n",
      "\n",
      "           0       0.85      0.96      0.90        91\n",
      "           1       0.96      0.87      0.91        90\n",
      "           2       0.88      0.79      0.83        19\n",
      "\n",
      "    accuracy                           0.90       200\n",
      "   macro avg       0.90      0.87      0.88       200\n",
      "weighted avg       0.91      0.90      0.90       200\n",
      "\n",
      "🏃 View run GradientBoosting at: http://127.0.0.1:8080/#/experiments/0/runs/5ed71cc594244df8b027351f12161dff\n",
      "🧪 View experiment at: http://127.0.0.1:8080/#/experiments/0\n"
     ]
    },
    {
     "name": "stderr",
     "output_type": "stream",
     "text": [
      "Created version '7' of model 'gradientboosting-model'.\n"
     ]
    }
   ],
   "source": [
    "# Set MLflow tracking URI\n",
    "host = \"127.0.0.1\"\n",
    "port = 8080\n",
    "\n",
    "mlflow.set_tracking_uri(uri=f\"http://{host}:{port}\")\n",
    "print(f\"MLflow tracking URI set to: {mlflow.get_tracking_uri()}\")\n",
    "\n",
    "# Create a new MLflow Experiment with a unique name\n",
    "experiment_name = \"Model Comparison New\"\n",
    "try:\n",
    "    # Try to get the experiment by name\n",
    "    experiment = mlflow.get_experiment_by_name(experiment_name)\n",
    "    \n",
    "    # If experiment doesn't exist, create it\n",
    "    if experiment is None:\n",
    "        experiment_id = mlflow.create_experiment(experiment_name)\n",
    "        print(f\"Created new experiment: {experiment_name} with ID: {experiment_id}\")\n",
    "    else:\n",
    "        print(f\"Using existing experiment: {experiment_name}\")\n",
    "    \n",
    "    # Set the experiment as active\n",
    "    mlflow.set_experiment(experiment_name)\n",
    "except Exception as e:\n",
    "    print(f\"Error setting up experiment: {e}\")\n",
    "    # Fallback to using the default experiment\n",
    "    mlflow.set_experiment(\"Default\")\n",
    "\n",
    "# Train and evaluate LogisticRegression\n",
    "lr = LogisticRegression(**lr_params)\n",
    "lr_model_info = train_and_evaluate_model(lr, \"LogisticRegression\", lr_params, \n",
    "                                      X_train, X_test, y_train, y_test)\n",
    "\n",
    "# Train and evaluate GradientBoostingClassifier\n",
    "gb = GradientBoostingClassifier(**gb_params)\n",
    "gb_model_info = train_and_evaluate_model(gb, \"GradientBoosting\", gb_params, \n",
    "                                      X_train, X_test, y_train, y_test)"
   ]
  },
  {
   "cell_type": "code",
   "execution_count": 45,
   "id": "75e24a45",
   "metadata": {},
   "outputs": [
    {
     "name": "stdout",
     "output_type": "stream",
     "text": [
      "\n",
      "Prediction Comparison (first 5 samples):\n",
      "   actual_class  lr_predicted  gb_predicted\n",
      "0             0             0             0\n",
      "1             2             2             2\n",
      "2             1             1             1\n",
      "3             0             0             0\n",
      "4             0             1             0\n"
     ]
    }
   ],
   "source": [
    "# Compare predictions\n",
    "lr_predictions = lr.predict(X_test)\n",
    "gb_predictions = gb.predict(X_test)\n",
    "\n",
    "# Create comparison DataFrame\n",
    "comparison_df = pd.DataFrame({\n",
    "    'actual_class': y_test,\n",
    "    'lr_predicted': lr_predictions,\n",
    "    'gb_predicted': gb_predictions\n",
    "})\n",
    "\n",
    "print(\"\\nPrediction Comparison (first 5 samples):\")\n",
    "print(comparison_df.head())"
   ]
  }
 ],
 "metadata": {
  "kernelspec": {
   "display_name": "PyTorchTutorial",
   "language": "python",
   "name": "python3"
  },
  "language_info": {
   "codemirror_mode": {
    "name": "ipython",
    "version": 3
   },
   "file_extension": ".py",
   "mimetype": "text/x-python",
   "name": "python",
   "nbconvert_exporter": "python",
   "pygments_lexer": "ipython3",
   "version": "3.12.2"
  }
 },
 "nbformat": 4,
 "nbformat_minor": 5
}
