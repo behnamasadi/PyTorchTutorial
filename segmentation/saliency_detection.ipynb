{
 "cells": [
  {
   "cell_type": "markdown",
   "id": "477ffdd9-d11f-4c46-9117-073beaa5824d",
   "metadata": {},
   "source": [
    "##  Identifying visually prominent regions"
   ]
  }
 ],
 "metadata": {
  "kernelspec": {
   "display_name": "Python 3 (ipykernel)",
   "language": "python",
   "name": "python3"
  },
  "language_info": {
   "codemirror_mode": {
    "name": "ipython",
    "version": 3
   },
   "file_extension": ".py",
   "mimetype": "text/x-python",
   "name": "python",
   "nbconvert_exporter": "python",
   "pygments_lexer": "ipython3",
   "version": "3.12.2"
  }
 },
 "nbformat": 4,
 "nbformat_minor": 5
}
