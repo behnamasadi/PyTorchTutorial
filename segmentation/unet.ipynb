{
 "cells": [
  {
   "cell_type": "markdown",
   "id": "8e1cad6a-f372-4015-8001-4bf1cd508bef",
   "metadata": {},
   "source": [
    "## U-Net Encoder-decoder for medical image segmentation\n",
    "\n",
    "## nnU-Net Self-adapting framework for medical images"
   ]
  }
 ],
 "metadata": {
  "kernelspec": {
   "display_name": "Python 3 (ipykernel)",
   "language": "python",
   "name": "python3"
  },
  "language_info": {
   "codemirror_mode": {
    "name": "ipython",
    "version": 3
   },
   "file_extension": ".py",
   "mimetype": "text/x-python",
   "name": "python",
   "nbconvert_exporter": "python",
   "pygments_lexer": "ipython3",
   "version": "3.12.2"
  }
 },
 "nbformat": 4,
 "nbformat_minor": 5
}
