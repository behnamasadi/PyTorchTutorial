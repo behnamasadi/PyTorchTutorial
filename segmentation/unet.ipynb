{
 "cells": [
  {
   "cell_type": "markdown",
   "id": "262c1578-41d1-4bd9-88f1-aac61f2019bb",
   "metadata": {},
   "source": [
    "## **Standard U-Net Channel Flow (base=64):**\n",
    "\n",
    "### **Encoder Flow:**\n",
    "\n",
    "| Level | Input | Conv1 Output | Conv2 Output | Pool Output | Spatial |\n",
    "|-------|-------|--------------|--------------|-------------|---------|\n",
    "| **Input** | 3 | - | - | - | 256×256 |\n",
    "| **E1** | 3 | → **64** | → **64** | → **64** | 256×256 → 128×128 |\n",
    "| **E2** | 64 | → **128** | → **128** | → **128** | 128×128 → 64×64 |\n",
    "| **E3** | 128 | → **256** | → **256** | → **256** | 64×64 → 32×32 |\n",
    "| **E4** | 256 | → **512** | → **512** | → **512** | 32×32 → 16×16 |\n",
    "| **Bottleneck** | 512 | → **1024** | → **1024** | - | 16×16 |\n",
    "\n",
    "### **Decoder Flow:**\n",
    "\n",
    "| Level | Input | Upsample | Concat Skip | Conv1 Output | Conv2 Output | Spatial |\n",
    "|-------|-------|----------|-------------|--------------|--------------|---------|\n",
    "| **D4** | 1024 | → 512 | +512 = 1024 | → **512** | → **512** | 32×32 |\n",
    "| **D3** | 512 | → 256 | +256 = 512 | → **256** | → **256** | 64×64 |\n",
    "| **D2** | 256 | → 128 | +128 = 256 | → **128** | → **128** | 128×128 |\n",
    "| **D1** | 128 | → 64 | +64 = 128 | → **64** | → **64** | 256×256 |\n",
    "| **Final** | 64 | - | - | → **num_classes** | - | 256×256 |\n",
    "\n",
    "## **Complete Architecture Visualization:**\n",
    "\n",
    "```\n",
    "Input: 256×256×3\n",
    "  ↓\n",
    "[E1] 256×256×64 ──┐\n",
    "  ↓ pool          │ Skip Connection\n",
    "128×128×64        │\n",
    "  ↓               │\n",
    "[E2] 128×128×128 ─┼──┐\n",
    "  ↓ pool          │  │ Skip Connection  \n",
    "64×64×128         │  │\n",
    "  ↓               │  │\n",
    "[E3] 64×64×256  ──┼──┼──┐\n",
    "  ↓ pool          │  │  │ Skip Connection\n",
    "32×32×256         │  │  │\n",
    "  ↓               │  │  │\n",
    "[E4] 32×32×512  ──┼──┼──┼──┐\n",
    "  ↓ pool          │  │  │  │ Skip Connection\n",
    "16×16×512         │  │  │  │\n",
    "  ↓               │  │  │  │\n",
    "[Bottleneck] 16×16×1024\n",
    "  ↓\n",
    "[D4] 32×32×512  ←──┼──┼──┼── (Upsample + Concat)\n",
    "  ↓                │  │  │\n",
    "[D3] 64×64×256  ←──┼──┼── (Upsample + Concat)\n",
    "  ↓                │  │\n",
    "[D2] 128×128×128 ←─┼── (Upsample + Concat)\n",
    "  ↓                │\n",
    "[D1] 256×256×64  ←── (Upsample + Concat)\n",
    "  ↓\n",
    "[Final] 256×256×num_classes\n",
    "```\n"
   ]
  },
  {
   "cell_type": "markdown",
   "id": "8e1cad6a-f372-4015-8001-4bf1cd508bef",
   "metadata": {},
   "source": [
    "## U-Net Encoder-decoder for medical image segmentation\n",
    "\n",
    "## nnU-Net Self-adapting framework for medical images"
   ]
  }
 ],
 "metadata": {
  "kernelspec": {
   "display_name": "Python 3 (ipykernel)",
   "language": "python",
   "name": "python3"
  },
  "language_info": {
   "codemirror_mode": {
    "name": "ipython",
    "version": 3
   },
   "file_extension": ".py",
   "mimetype": "text/x-python",
   "name": "python",
   "nbconvert_exporter": "python",
   "pygments_lexer": "ipython3",
   "version": "3.12.2"
  }
 },
 "nbformat": 4,
 "nbformat_minor": 5
}
