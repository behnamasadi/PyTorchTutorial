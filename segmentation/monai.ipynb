{
 "cells": [
  {
   "cell_type": "markdown",
   "id": "3d8c079d-85f5-4bc7-96af-8c40578ab49a",
   "metadata": {},
   "source": [
    "## Medical AI framework with segmentation models"
   ]
  }
 ],
 "metadata": {
  "kernelspec": {
   "display_name": "Python 3 (ipykernel)",
   "language": "python",
   "name": "python3"
  },
  "language_info": {
   "codemirror_mode": {
    "name": "ipython",
    "version": 3
   },
   "file_extension": ".py",
   "mimetype": "text/x-python",
   "name": "python",
   "nbconvert_exporter": "python",
   "pygments_lexer": "ipython3",
   "version": "3.12.2"
  }
 },
 "nbformat": 4,
 "nbformat_minor": 5
}
